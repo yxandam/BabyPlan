{
  "nbformat": 4,
  "nbformat_minor": 0,
  "metadata": {
    "colab": {
      "name": "Untitled0.ipynb",
      "version": "0.3.2",
      "provenance": [],
      "include_colab_link": true
    },
    "kernelspec": {
      "name": "python3",
      "display_name": "Python 3"
    }
  },
  "cells": [
    {
      "cell_type": "markdown",
      "metadata": {
        "id": "view-in-github",
        "colab_type": "text"
      },
      "source": [
        "<a href=\"https://colab.research.google.com/github/yxandam/BabyPlan/blob/master/findDifferences.ipynb\" target=\"_parent\"><img src=\"https://colab.research.google.com/assets/colab-badge.svg\" alt=\"Open In Colab\"/></a>"
      ]
    },
    {
      "metadata": {
        "id": "F7Q9cs2_Njz4",
        "colab_type": "code",
        "colab": {}
      },
      "cell_type": "code",
      "source": [
        "!wget https://s1.ax1x.com/2018/11/18/izz8U0.png"
      ],
      "execution_count": 0,
      "outputs": []
    },
    {
      "metadata": {
        "id": "hlMniEvrU0Gy",
        "colab_type": "code",
        "colab": {}
      },
      "cell_type": "code",
      "source": [
        "def compare_images(path_one, path_two, diff_save_location):\n",
        "    \"\"\"\n",
        "    比较图片，如果有不同则生成展示不同的图片\n",
        " \n",
        "    @参数一: path_one: 第一张图片的路径\n",
        "    @参数二: path_two: 第二张图片的路径\n",
        "    @参数三: diff_save_location: 不同图的保存路径\n",
        "    \"\"\"\n",
        "    import cv2\n",
        "    import numpy as np\n",
        "    img1 = cv2.imread(path_one)\n",
        "    img2 = cv2.imread(path_two)\n",
        "    img1.dtype = 'int16'\n",
        "    img2.dtype = 'int16'\n",
        "    re = abs(img1-img2)\n",
        "    cv2.imwrite('re.jpg',re)\n",
        "    from google.colab import files\n",
        "\n",
        "    files.download('re.jpg')\n",
        "\n",
        "compare_images('1.jpg','2.jpg','rrrrrrrrrr.jpg')"
      ],
      "execution_count": 0,
      "outputs": []
    }
  ]
}